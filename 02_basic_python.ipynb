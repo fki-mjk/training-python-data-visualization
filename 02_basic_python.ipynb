{
 "cells": [
  {
   "cell_type": "markdown",
   "id": "e880dbb7-96c2-42f5-9c62-8c445d442b4f",
   "metadata": {},
   "source": [
    "# Basic Python"
   ]
  },
  {
   "cell_type": "markdown",
   "id": "04f0b78a-dd5b-468b-9f2a-b6076189a1a1",
   "metadata": {},
   "source": [
    "## Variable"
   ]
  },
  {
   "cell_type": "code",
   "execution_count": 1,
   "id": "3d97231a-3b8c-4b38-806d-b2fdc244c187",
   "metadata": {},
   "outputs": [],
   "source": [
    "response_time = 2000  # int, contoh nilai dari kolom 'Response Time (ms)'\n",
    "cpu_usage = 85.5  # float, contoh nilai dari kolom 'CPU Usage (%)'\n",
    "jenis_error = \"NullPointerException\"  # str, contoh nilai dari kolom 'Jenis Error'\n",
    "user_id = \"user456\"  # str, contoh nilai dari kolom 'User ID'\n",
    "lokasi = \"Jakarta\"  # str, contoh nilai dari kolom 'Lokasi'"
   ]
  },
  {
   "cell_type": "markdown",
   "id": "e1aa06ea-ece5-4156-af31-768d555cc87c",
   "metadata": {},
   "source": [
    "## Operator"
   ]
  },
  {
   "cell_type": "code",
   "execution_count": 2,
   "id": "6426416a-0c2e-422e-9ab9-ef08468eec66",
   "metadata": {},
   "outputs": [],
   "source": [
    "total_response_time = response_time * 2\n",
    "is_high_cpu_usage = cpu_usage > 90"
   ]
  },
  {
   "cell_type": "code",
   "execution_count": 3,
   "id": "766ec468-db2a-4050-a677-978418177c79",
   "metadata": {},
   "outputs": [
    {
     "data": {
      "text/plain": [
       "4000"
      ]
     },
     "execution_count": 3,
     "metadata": {},
     "output_type": "execute_result"
    }
   ],
   "source": [
    "total_response_time"
   ]
  },
  {
   "cell_type": "code",
   "execution_count": 4,
   "id": "5fb8e8be-41f6-4a36-a56d-942500f63030",
   "metadata": {},
   "outputs": [
    {
     "data": {
      "text/plain": [
       "False"
      ]
     },
     "execution_count": 4,
     "metadata": {},
     "output_type": "execute_result"
    }
   ],
   "source": [
    "is_high_cpu_usage"
   ]
  },
  {
   "cell_type": "markdown",
   "id": "874b059d-088a-490f-a4e6-b169d280f70a",
   "metadata": {},
   "source": [
    "## List & Dictionary"
   ]
  },
  {
   "cell_type": "code",
   "execution_count": 5,
   "id": "00725e8e-34a2-4478-a6d8-339253f3c35c",
   "metadata": {},
   "outputs": [],
   "source": [
    "jenis_error_list = [\"Connection Error\", \"NullPointerException\", \"InvalidInputException\"]\n",
    "error_info = {\"Jenis Error\": \"Connection Error\", \"Response Time\": 1500, \"CPU Usage\": 60.2}"
   ]
  },
  {
   "cell_type": "code",
   "execution_count": 6,
   "id": "dd229bd6-fc5a-43f2-b430-4a772e9373dc",
   "metadata": {},
   "outputs": [
    {
     "data": {
      "text/plain": [
       "['Connection Error', 'NullPointerException', 'InvalidInputException']"
      ]
     },
     "execution_count": 6,
     "metadata": {},
     "output_type": "execute_result"
    }
   ],
   "source": [
    "jenis_error_list"
   ]
  },
  {
   "cell_type": "markdown",
   "id": "1f5f6d7b-b1cd-4cd8-8837-65fcc6b55bf0",
   "metadata": {},
   "source": [
    "## Conditional"
   ]
  },
  {
   "cell_type": "code",
   "execution_count": 7,
   "id": "2285727c-16e8-4873-997c-7dd0a8e3e546",
   "metadata": {},
   "outputs": [
    {
     "name": "stdout",
     "output_type": "stream",
     "text": [
      "CPU usage tinggi!\n"
     ]
    }
   ],
   "source": [
    "if cpu_usage > 80:\n",
    "    print(\"CPU usage tinggi!\")\n",
    "else:\n",
    "    print(\"CPU usage normal.\")"
   ]
  },
  {
   "cell_type": "markdown",
   "id": "9336e7a4-d7d7-4640-bc17-259d512c1ef3",
   "metadata": {},
   "source": [
    "## Looping"
   ]
  },
  {
   "cell_type": "code",
   "execution_count": 8,
   "id": "b5a6f29a-c9f4-47c3-9961-c18291e0a989",
   "metadata": {},
   "outputs": [
    {
     "name": "stdout",
     "output_type": "stream",
     "text": [
      "Connection Error\n",
      "NullPointerException\n",
      "InvalidInputException\n"
     ]
    }
   ],
   "source": [
    "for jenis in jenis_error_list:\n",
    "    print(jenis)"
   ]
  },
  {
   "cell_type": "markdown",
   "id": "a1860bbd-610e-4bdf-98cb-5afed9ed1f05",
   "metadata": {},
   "source": [
    "## Fungsi"
   ]
  },
  {
   "cell_type": "code",
   "execution_count": 10,
   "id": "e88c07de-f397-4d5a-8ebb-9b79e3248691",
   "metadata": {},
   "outputs": [],
   "source": [
    "import pandas as pd\n",
    "df = pd.read_csv('data/error_log_updated.csv')"
   ]
  },
  {
   "cell_type": "code",
   "execution_count": 11,
   "id": "8ba20b1e-4fb1-4ad8-888f-daac539596f5",
   "metadata": {},
   "outputs": [],
   "source": [
    "def hitung_rata_rata_response_time(df, jenis_error):\n",
    "  \"\"\"\n",
    "  Fungsi ini menghitung rata-rata response time \n",
    "  untuk jenis error tertentu.\n",
    "  \"\"\"\n",
    "  data_error = df[df['Jenis Error'] == jenis_error]\n",
    "  rata_rata = data_error['Response Time (ms)'].mean()\n",
    "  return rata_rata"
   ]
  },
  {
   "cell_type": "code",
   "execution_count": 12,
   "id": "d4bd70d0-39fc-42e6-b162-6caf44275309",
   "metadata": {},
   "outputs": [
    {
     "data": {
      "text/plain": [
       "np.float64(2799.1854103343467)"
      ]
     },
     "execution_count": 12,
     "metadata": {},
     "output_type": "execute_result"
    }
   ],
   "source": [
    "rata_rata_connection_error = hitung_rata_rata_response_time(df, 'Connection Error')\n",
    "rata_rata_connection_error"
   ]
  },
  {
   "cell_type": "code",
   "execution_count": 13,
   "id": "1e5931e0-5bc0-43bd-abaa-b7eb2e567cc5",
   "metadata": {},
   "outputs": [
    {
     "name": "stdout",
     "output_type": "stream",
     "text": [
      "2799.1854103343467\n"
     ]
    }
   ],
   "source": [
    "print(rata_rata_connection_error)"
   ]
  },
  {
   "cell_type": "markdown",
   "id": "928dac48-90c0-4412-ae51-f1f7e4ee6a8b",
   "metadata": {},
   "source": [
    "## Fungsi Lambda "
   ]
  },
  {
   "cell_type": "code",
   "execution_count": 14,
   "id": "12693219-f58c-4d3e-8246-dd154e5db277",
   "metadata": {},
   "outputs": [
    {
     "name": "stdout",
     "output_type": "stream",
     "text": [
      "  Severity Level  Severity Level Numeric\n",
      "0        Warning                       3\n",
      "1          Debug                       1\n",
      "2          Error                       4\n",
      "3          Debug                       1\n",
      "4           Info                       2\n"
     ]
    }
   ],
   "source": [
    "severity_level_mapping = {'Debug': 1, 'Info': 2, 'Warning': 3, 'Error': 4, 'Critical': 5, 'Fatal': 6}\n",
    "df['Severity Level Numeric'] = df['Severity Level'].apply(lambda x: severity_level_mapping[x])\n",
    "print(df[['Severity Level', 'Severity Level Numeric']].head())"
   ]
  },
  {
   "cell_type": "markdown",
   "id": "a0f1b439-c26f-4f9c-b00a-aa50bc0e2932",
   "metadata": {},
   "source": [
    "## Class"
   ]
  },
  {
   "cell_type": "code",
   "execution_count": 15,
   "id": "70cce816-bec1-4e2d-b5b2-74a8a13dcb87",
   "metadata": {},
   "outputs": [],
   "source": [
    "class ErrorLog:\n",
    "  def __init__(self, timestamp, jenis_error, response_time):\n",
    "    self.timestamp = timestamp\n",
    "    self.jenis_error = jenis_error\n",
    "    self.response_time = response_time\n",
    "    \n",
    "  def is_critical(self):\n",
    "    return self.response_time > 3000"
   ]
  },
  {
   "cell_type": "code",
   "execution_count": 16,
   "id": "6f0f274d-6e69-4654-9bdf-b9ee38738c16",
   "metadata": {},
   "outputs": [],
   "source": [
    "error1 = ErrorLog(\"2024-01-01 00:00:00\", \"Connection Error\", 2500)"
   ]
  },
  {
   "cell_type": "code",
   "execution_count": 17,
   "id": "c871dfc5-b78d-44ec-b93c-e45a17213b14",
   "metadata": {},
   "outputs": [
    {
     "data": {
      "text/plain": [
       "False"
      ]
     },
     "execution_count": 17,
     "metadata": {},
     "output_type": "execute_result"
    }
   ],
   "source": [
    "error1.is_critical()"
   ]
  },
  {
   "cell_type": "code",
   "execution_count": null,
   "id": "98d2d4bd-57ea-42f9-afac-760116a9c8fa",
   "metadata": {},
   "outputs": [],
   "source": []
  },
  {
   "cell_type": "code",
   "execution_count": null,
   "id": "e3ae5a3b-a6b1-4c4a-9760-1f5db825c537",
   "metadata": {},
   "outputs": [],
   "source": []
  },
  {
   "cell_type": "code",
   "execution_count": null,
   "id": "5639b645-b1da-4838-846b-56b74912480c",
   "metadata": {},
   "outputs": [],
   "source": []
  }
 ],
 "metadata": {
  "kernelspec": {
   "display_name": "Python 3 (ipykernel)",
   "language": "python",
   "name": "python3"
  },
  "language_info": {
   "codemirror_mode": {
    "name": "ipython",
    "version": 3
   },
   "file_extension": ".py",
   "mimetype": "text/x-python",
   "name": "python",
   "nbconvert_exporter": "python",
   "pygments_lexer": "ipython3",
   "version": "3.12.8"
  }
 },
 "nbformat": 4,
 "nbformat_minor": 5
}
