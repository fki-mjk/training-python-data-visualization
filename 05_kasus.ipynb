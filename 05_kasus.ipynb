{
 "cells": [
  {
   "cell_type": "markdown",
   "id": "0e3ef3f4-2fc7-40ef-96e1-503c402ed6a9",
   "metadata": {},
   "source": [
    "# Kasus Detektif Data"
   ]
  },
  {
   "cell_type": "markdown",
   "id": "e0e0bffe-df9c-40fd-896f-f634e2004ef0",
   "metadata": {},
   "source": [
    "## Persiapan"
   ]
  },
  {
   "cell_type": "code",
   "execution_count": 3,
   "id": "8ae182b6-ee16-49b6-b303-1f98a9f5345e",
   "metadata": {},
   "outputs": [
    {
     "data": {
      "text/html": [
       "<div>\n",
       "<style scoped>\n",
       "    .dataframe tbody tr th:only-of-type {\n",
       "        vertical-align: middle;\n",
       "    }\n",
       "\n",
       "    .dataframe tbody tr th {\n",
       "        vertical-align: top;\n",
       "    }\n",
       "\n",
       "    .dataframe thead th {\n",
       "        text-align: right;\n",
       "    }\n",
       "</style>\n",
       "<table border=\"1\" class=\"dataframe\">\n",
       "  <thead>\n",
       "    <tr style=\"text-align: right;\">\n",
       "      <th></th>\n",
       "      <th>Timestamp</th>\n",
       "      <th>Jenis Error</th>\n",
       "      <th>Pesan Error</th>\n",
       "      <th>User ID</th>\n",
       "      <th>Versi Aplikasi</th>\n",
       "      <th>Lokasi</th>\n",
       "      <th>Platform</th>\n",
       "      <th>Severity Level</th>\n",
       "      <th>Browser/User Agent</th>\n",
       "      <th>Sistem Operasi</th>\n",
       "      <th>Response Time (ms)</th>\n",
       "      <th>Network Latency (ms)</th>\n",
       "      <th>CPU Usage (%)</th>\n",
       "    </tr>\n",
       "  </thead>\n",
       "  <tbody>\n",
       "    <tr>\n",
       "      <th>0</th>\n",
       "      <td>2024-01-01 00:00:00</td>\n",
       "      <td>InvalidInputException</td>\n",
       "      <td>I/O error occurred</td>\n",
       "      <td>user97</td>\n",
       "      <td>v1.0</td>\n",
       "      <td>Medan</td>\n",
       "      <td>Web</td>\n",
       "      <td>Warning</td>\n",
       "      <td>Firefox 108</td>\n",
       "      <td>macOS 13</td>\n",
       "      <td>813</td>\n",
       "      <td>32</td>\n",
       "      <td>53</td>\n",
       "    </tr>\n",
       "    <tr>\n",
       "      <th>1</th>\n",
       "      <td>2024-01-01 00:44:41</td>\n",
       "      <td>InvalidInputException</td>\n",
       "      <td>Resource not found</td>\n",
       "      <td>user44</td>\n",
       "      <td>v1.0</td>\n",
       "      <td>Makassar</td>\n",
       "      <td>Web</td>\n",
       "      <td>Debug</td>\n",
       "      <td>Chrome 110</td>\n",
       "      <td>Windows 10</td>\n",
       "      <td>4412</td>\n",
       "      <td>20</td>\n",
       "      <td>78</td>\n",
       "    </tr>\n",
       "    <tr>\n",
       "      <th>2</th>\n",
       "      <td>2024-01-01 01:29:22</td>\n",
       "      <td>NullPointerException</td>\n",
       "      <td>Resource not found</td>\n",
       "      <td>user80</td>\n",
       "      <td>v2.0</td>\n",
       "      <td>Bandung</td>\n",
       "      <td>Android</td>\n",
       "      <td>Error</td>\n",
       "      <td>Safari 16</td>\n",
       "      <td>Windows 10</td>\n",
       "      <td>4858</td>\n",
       "      <td>159</td>\n",
       "      <td>94</td>\n",
       "    </tr>\n",
       "    <tr>\n",
       "      <th>3</th>\n",
       "      <td>2024-01-01 02:14:03</td>\n",
       "      <td>Connection Error</td>\n",
       "      <td>Timeout while processing request</td>\n",
       "      <td>user61</td>\n",
       "      <td>v1.1</td>\n",
       "      <td>Jakarta</td>\n",
       "      <td>iOS</td>\n",
       "      <td>Debug</td>\n",
       "      <td>Chrome 110</td>\n",
       "      <td>Windows 10</td>\n",
       "      <td>4766</td>\n",
       "      <td>78</td>\n",
       "      <td>33</td>\n",
       "    </tr>\n",
       "    <tr>\n",
       "      <th>4</th>\n",
       "      <td>2024-01-01 02:58:44</td>\n",
       "      <td>ResourceNotFoundException</td>\n",
       "      <td>Resource not found</td>\n",
       "      <td>user43</td>\n",
       "      <td>v2.0</td>\n",
       "      <td>Jakarta</td>\n",
       "      <td>Web</td>\n",
       "      <td>Info</td>\n",
       "      <td>Edge 109</td>\n",
       "      <td>Android 13</td>\n",
       "      <td>2963</td>\n",
       "      <td>106</td>\n",
       "      <td>33</td>\n",
       "    </tr>\n",
       "  </tbody>\n",
       "</table>\n",
       "</div>"
      ],
      "text/plain": [
       "             Timestamp                Jenis Error  \\\n",
       "0  2024-01-01 00:00:00      InvalidInputException   \n",
       "1  2024-01-01 00:44:41      InvalidInputException   \n",
       "2  2024-01-01 01:29:22       NullPointerException   \n",
       "3  2024-01-01 02:14:03           Connection Error   \n",
       "4  2024-01-01 02:58:44  ResourceNotFoundException   \n",
       "\n",
       "                        Pesan Error User ID Versi Aplikasi    Lokasi Platform  \\\n",
       "0                I/O error occurred  user97           v1.0     Medan      Web   \n",
       "1                Resource not found  user44           v1.0  Makassar      Web   \n",
       "2                Resource not found  user80           v2.0   Bandung  Android   \n",
       "3  Timeout while processing request  user61           v1.1   Jakarta      iOS   \n",
       "4                Resource not found  user43           v2.0   Jakarta      Web   \n",
       "\n",
       "  Severity Level Browser/User Agent Sistem Operasi  Response Time (ms)  \\\n",
       "0        Warning        Firefox 108       macOS 13                 813   \n",
       "1          Debug         Chrome 110     Windows 10                4412   \n",
       "2          Error          Safari 16     Windows 10                4858   \n",
       "3          Debug         Chrome 110     Windows 10                4766   \n",
       "4           Info           Edge 109     Android 13                2963   \n",
       "\n",
       "   Network Latency (ms)  CPU Usage (%)  \n",
       "0                    32             53  \n",
       "1                    20             78  \n",
       "2                   159             94  \n",
       "3                    78             33  \n",
       "4                   106             33  "
      ]
     },
     "execution_count": 3,
     "metadata": {},
     "output_type": "execute_result"
    }
   ],
   "source": [
    "import pandas as pd\n",
    "df = pd.read_csv('data/error_log_updated.csv')\n",
    "df.head(5)"
   ]
  },
  {
   "cell_type": "code",
   "execution_count": 5,
   "id": "dc3f6dad-3323-47ca-81d5-1ec2d00dcf6b",
   "metadata": {},
   "outputs": [],
   "source": [
    "# Mengubah kolom 'Timestamp' ke tipe data datetime\n",
    "df['Timestamp'] = pd.to_datetime(df['Timestamp'])"
   ]
  },
  {
   "cell_type": "code",
   "execution_count": 7,
   "id": "0b9f8635-a7d0-4461-87aa-f3b3a9d7ac33",
   "metadata": {},
   "outputs": [],
   "source": [
    "# Menghapus baris dengan nilai null (jika ada)\n",
    "df.dropna(inplace=True)"
   ]
  },
  {
   "cell_type": "markdown",
   "id": "06e9aad4-b372-4366-a02d-77c46f600f04",
   "metadata": {},
   "source": [
    "## Penyelidikan"
   ]
  },
  {
   "cell_type": "markdown",
   "id": "d3e7d248-70d5-45cb-ac69-3ceedc2bf32b",
   "metadata": {},
   "source": [
    "### Identifikasi Jenis Error"
   ]
  },
  {
   "cell_type": "code",
   "execution_count": 8,
   "id": "38ee2302-b4c1-4093-bc14-aa48dc24dc24",
   "metadata": {},
   "outputs": [
    {
     "data": {
      "text/plain": [
       "Jenis Error\n",
       "Connection Error             329\n",
       "NullPointerException         229\n",
       "InvalidInputException        187\n",
       "ResourceNotFoundException    144\n",
       "Timeout Exception             58\n",
       "IOException                   53\n",
       "Name: count, dtype: int64"
      ]
     },
     "execution_count": 8,
     "metadata": {},
     "output_type": "execute_result"
    }
   ],
   "source": [
    "jenis_error_counts = df['Jenis Error'].value_counts()\n",
    "jenis_error_counts\n"
   ]
  },
  {
   "cell_type": "code",
   "execution_count": 9,
   "id": "ba56792c-1111-4c16-8b84-5db20cdc4bcb",
   "metadata": {},
   "outputs": [
    {
     "data": {
      "image/png": "[encoded data removed]",
      "text/plain": [
       "<Figure size 640x480 with 1 Axes>"
      ]
     },
     "metadata": {},
     "output_type": "display_data"
    }
   ],
   "source": [
    "import matplotlib.pyplot as plt\n",
    "\n",
    "plt.bar(jenis_error_counts.index, jenis_error_counts.values)\n",
    "plt.xlabel(\"Jenis Error\")\n",
    "plt.ylabel(\"Frekuensi\")\n",
    "plt.xticks(rotation=45, ha='right')\n",
    "plt.show()"
   ]
  },
  {
   "cell_type": "markdown",
   "id": "14a77aff-7823-48ee-a2e3-134c474bee16",
   "metadata": {},
   "source": [
    "### Analisis Error"
   ]
  },
  {
   "cell_type": "code",
   "execution_count": 11,
   "id": "8e4be0cb-f040-4c9e-9c1a-ec342b3c854c",
   "metadata": {},
   "outputs": [
    {
     "data": {
      "text/plain": [
       "Timestamp\n",
       "0     43\n",
       "1     42\n",
       "2     41\n",
       "3     42\n",
       "4     42\n",
       "5     41\n",
       "6     42\n",
       "7     41\n",
       "8     42\n",
       "9     42\n",
       "10    41\n",
       "11    42\n",
       "12    42\n",
       "13    41\n",
       "14    42\n",
       "15    41\n",
       "16    42\n",
       "17    42\n",
       "18    41\n",
       "19    42\n",
       "20    42\n",
       "21    41\n",
       "22    42\n",
       "23    41\n",
       "dtype: int64"
      ]
     },
     "execution_count": 11,
     "metadata": {},
     "output_type": "execute_result"
    }
   ],
   "source": [
    "# Grouping data berdasarkan jam\n",
    "error_per_jam = df.groupby(df['Timestamp'].dt.hour).size()\n",
    "error_per_jam"
   ]
  },
  {
   "cell_type": "code",
   "execution_count": 12,
   "id": "51d38eb3-6fbc-42ef-80d5-ca784615e41f",
   "metadata": {},
   "outputs": [
    {
     "data": {
      "image/png": "[encoded data removed]",
      "text/plain": [
       "<Figure size 640x480 with 1 Axes>"
      ]
     },
     "metadata": {},
     "output_type": "display_data"
    }
   ],
   "source": [
    "# Visualisasi dengan line chart\n",
    "plt.plot(error_per_jam.index, error_per_jam.values)\n",
    "plt.xlabel(\"Jam\")\n",
    "plt.ylabel(\"Jumlah Error\")\n",
    "plt.show()"
   ]
  },
  {
   "cell_type": "code",
   "execution_count": 13,
   "id": "c281a177-2b29-45b9-b043-4a70b4af77dc",
   "metadata": {},
   "outputs": [
    {
     "data": {
      "text/html": [
       "<div>\n",
       "<style scoped>\n",
       "    .dataframe tbody tr th:only-of-type {\n",
       "        vertical-align: middle;\n",
       "    }\n",
       "\n",
       "    .dataframe tbody tr th {\n",
       "        vertical-align: top;\n",
       "    }\n",
       "\n",
       "    .dataframe thead th {\n",
       "        text-align: right;\n",
       "    }\n",
       "</style>\n",
       "<table border=\"1\" class=\"dataframe\">\n",
       "  <thead>\n",
       "    <tr style=\"text-align: right;\">\n",
       "      <th>Platform</th>\n",
       "      <th>Android</th>\n",
       "      <th>Web</th>\n",
       "      <th>iOS</th>\n",
       "    </tr>\n",
       "    <tr>\n",
       "      <th>Jenis Error</th>\n",
       "      <th></th>\n",
       "      <th></th>\n",
       "      <th></th>\n",
       "    </tr>\n",
       "  </thead>\n",
       "  <tbody>\n",
       "    <tr>\n",
       "      <th>Connection Error</th>\n",
       "      <td>111</td>\n",
       "      <td>103</td>\n",
       "      <td>115</td>\n",
       "    </tr>\n",
       "    <tr>\n",
       "      <th>IOException</th>\n",
       "      <td>16</td>\n",
       "      <td>16</td>\n",
       "      <td>21</td>\n",
       "    </tr>\n",
       "    <tr>\n",
       "      <th>InvalidInputException</th>\n",
       "      <td>70</td>\n",
       "      <td>63</td>\n",
       "      <td>54</td>\n",
       "    </tr>\n",
       "    <tr>\n",
       "      <th>NullPointerException</th>\n",
       "      <td>84</td>\n",
       "      <td>73</td>\n",
       "      <td>72</td>\n",
       "    </tr>\n",
       "    <tr>\n",
       "      <th>ResourceNotFoundException</th>\n",
       "      <td>54</td>\n",
       "      <td>41</td>\n",
       "      <td>49</td>\n",
       "    </tr>\n",
       "    <tr>\n",
       "      <th>Timeout Exception</th>\n",
       "      <td>27</td>\n",
       "      <td>21</td>\n",
       "      <td>10</td>\n",
       "    </tr>\n",
       "  </tbody>\n",
       "</table>\n",
       "</div>"
      ],
      "text/plain": [
       "Platform                   Android  Web  iOS\n",
       "Jenis Error                                 \n",
       "Connection Error               111  103  115\n",
       "IOException                     16   16   21\n",
       "InvalidInputException           70   63   54\n",
       "NullPointerException            84   73   72\n",
       "ResourceNotFoundException       54   41   49\n",
       "Timeout Exception               27   21   10"
      ]
     },
     "execution_count": 13,
     "metadata": {},
     "output_type": "execute_result"
    }
   ],
   "source": [
    "# Crosstab antara Jenis Error dan Platform\n",
    "crosstab = pd.crosstab(df['Jenis Error'], df['Platform'])\n",
    "crosstab"
   ]
  },
  {
   "cell_type": "markdown",
   "id": "a113ab7a-eed1-4260-ad88-af790f558c8a",
   "metadata": {},
   "source": [
    "### Analisis Performa"
   ]
  },
  {
   "cell_type": "code",
   "execution_count": 14,
   "id": "91e4b688-7098-4faa-9f19-b7bed2b0690f",
   "metadata": {},
   "outputs": [
    {
     "data": {
      "text/plain": [
       "Jenis Error\n",
       "Connection Error             2799.185410\n",
       "IOException                  2799.075472\n",
       "InvalidInputException        2669.577540\n",
       "NullPointerException         2539.567686\n",
       "ResourceNotFoundException    2653.555556\n",
       "Timeout Exception            2649.258621\n",
       "Name: Response Time (ms), dtype: float64"
      ]
     },
     "execution_count": 14,
     "metadata": {},
     "output_type": "execute_result"
    }
   ],
   "source": [
    "rata_rata_response_time = df.groupby('Jenis Error')['Response Time (ms)'].mean()\n",
    "rata_rata_response_time"
   ]
  },
  {
   "cell_type": "code",
   "execution_count": 15,
   "id": "a56cc78b-cf04-4586-9331-f7d2d98cc5ba",
   "metadata": {},
   "outputs": [
    {
     "data": {
      "image/png": "[encoded data removed]",
      "text/plain": [
       "<Figure size 640x480 with 1 Axes>"
      ]
     },
     "metadata": {},
     "output_type": "display_data"
    }
   ],
   "source": [
    "import seaborn as sns\n",
    "\n",
    "sns.boxplot(x='Jenis Error', y='Response Time (ms)', data=df)\n",
    "plt.show()"
   ]
  },
  {
   "cell_type": "code",
   "execution_count": null,
   "id": "c8d6c31a-27bf-47e5-bd7c-5722b14c1085",
   "metadata": {},
   "outputs": [],
   "source": []
  },
  {
   "cell_type": "code",
   "execution_count": null,
   "id": "906fddb8-34cb-4af4-b315-a3a276a8a8bb",
   "metadata": {},
   "outputs": [],
   "source": []
  },
  {
   "cell_type": "code",
   "execution_count": null,
   "id": "b156e4b0-e23c-4e4e-8bba-526bba37f953",
   "metadata": {},
   "outputs": [],
   "source": []
  },
  {
   "cell_type": "code",
   "execution_count": null,
   "id": "e1533842-6c68-4cd3-a42e-90527f5b3e1c",
   "metadata": {},
   "outputs": [],
   "source": []
  },
  {
   "cell_type": "code",
   "execution_count": null,
   "id": "84aa6148-fc2f-4cbf-a094-99d17d9423fd",
   "metadata": {},
   "outputs": [],
   "source": []
  },
  {
   "cell_type": "code",
   "execution_count": null,
   "id": "e73976e9-a25f-474c-99a7-5d64a43c25e0",
   "metadata": {},
   "outputs": [],
   "source": []
  },
  {
   "cell_type": "code",
   "execution_count": null,
   "id": "13b776ff-e46b-4e54-a1b5-78e99f908409",
   "metadata": {},
   "outputs": [],
   "source": []
  },
  {
   "cell_type": "code",
   "execution_count": null,
   "id": "334ca3e9-fea1-4bea-ad43-3f32c0d41804",
   "metadata": {},
   "outputs": [],
   "source": []
  },
  {
   "cell_type": "code",
   "execution_count": null,
   "id": "ab6442c4-deb5-4875-9e20-09b7a8f4a9bc",
   "metadata": {},
   "outputs": [],
   "source": []
  },
  {
   "cell_type": "code",
   "execution_count": null,
   "id": "585850ce-b791-481e-b9ad-39eb4676adea",
   "metadata": {},
   "outputs": [],
   "source": []
  },
  {
   "cell_type": "code",
   "execution_count": null,
   "id": "6a16d2db-f97e-4829-9935-f5a3144395fa",
   "metadata": {},
   "outputs": [],
   "source": []
  },
  {
   "cell_type": "code",
   "execution_count": null,
   "id": "3b9e8376-cdd5-4056-b9f0-10b602d3b5a0",
   "metadata": {},
   "outputs": [],
   "source": []
  },
  {
   "cell_type": "code",
   "execution_count": null,
   "id": "d3d62d34-2108-4204-adbf-1cb0eb9d5f32",
   "metadata": {},
   "outputs": [],
   "source": []
  },
  {
   "cell_type": "code",
   "execution_count": null,
   "id": "f31e3afd-21ee-443c-a305-bac4fb188330",
   "metadata": {},
   "outputs": [],
   "source": []
  }
 ],
 "metadata": {
  "kernelspec": {
   "display_name": "Python 3 (ipykernel)",
   "language": "python",
   "name": "python3"
  },
  "language_info": {
   "codemirror_mode": {
    "name": "ipython",
    "version": 3
   },
   "file_extension": ".py",
   "mimetype": "text/x-python",
   "name": "python",
   "nbconvert_exporter": "python",
   "pygments_lexer": "ipython3",
   "version": "3.12.8"
  }
 },
 "nbformat": 4,
 "nbformat_minor": 5
}
